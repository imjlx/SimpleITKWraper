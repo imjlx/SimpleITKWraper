{
 "cells": [
  {
   "cell_type": "markdown",
   "id": "32bf0f26",
   "metadata": {},
   "source": [
    "# Example 2"
   ]
  },
  {
   "cell_type": "code",
   "execution_count": 1,
   "id": "236ea263",
   "metadata": {},
   "outputs": [],
   "source": [
    "import SimpleITK as sitk\n",
    "import os"
   ]
  },
  {
   "cell_type": "markdown",
   "id": "2fa058c6",
   "metadata": {},
   "source": [
    "## Helper function"
   ]
  },
  {
   "cell_type": "code",
   "execution_count": 2,
   "id": "309cefc6",
   "metadata": {},
   "outputs": [],
   "source": [
    "def save_transform_and_image(transform, fixed_image, moving_image, outputfile_prefix):\n",
    "    \"\"\"\n",
    "    Write the given transformation to file, resample the moving_image onto the fixed_images grid and save the\n",
    "    result to file.\n",
    "\n",
    "    Args:\n",
    "        transform (SimpleITK Transform): transform that maps points from the fixed image coordinate system to the moving.\n",
    "        fixed_image (SimpleITK Image): resample onto the spatial grid defined by this image.\n",
    "        moving_image (SimpleITK Image): resample this image.\n",
    "        outputfile_prefix (string): transform is written to outputfile_prefix.tfm and resampled image is written to outputfile_prefix.mha.\n",
    "    \"\"\"\n",
    "    resample = sitk.ResampleImageFilter()\n",
    "    resample.SetReferenceImage(fixed_image)\n",
    "\n",
    "    # SimpleITK supports several interpolation options, we go with the simplest that gives reasonable results.\n",
    "    resample.SetInterpolator(sitk.sitkLinear)\n",
    "    resample.SetTransform(transform)\n",
    "    sitk.WriteImage(resample.Execute(moving_image), outputfile_prefix + \".mha\")\n",
    "    sitk.WriteTransform(transform, outputfile_prefix + \".tfm\")\n",
    "\n",
    "def print_image_info(img):\n",
    "    print(f\"Size:      {img.GetSize()}\")\n",
    "    print(f\"Spacing:   {img.GetSpacing()}\")\n",
    "    print(f\"PixelID: {img.GetPixelID()}\")\n",
    "    print()"
   ]
  },
  {
   "cell_type": "markdown",
   "id": "1c7a15c7",
   "metadata": {},
   "source": [
    "## Load Data"
   ]
  },
  {
   "cell_type": "code",
   "execution_count": 3,
   "id": "13fe5453",
   "metadata": {},
   "outputs": [
    {
     "name": "stdout",
     "output_type": "stream",
     "text": [
      "Size:      (512, 512, 283)\n",
      "Spacing:   (0.65625, 0.65625, 0.625)\n",
      "PixelID: 4\n",
      "\n",
      "Size:      (320, 240, 352)\n",
      "Spacing:   (1.1875, 1.1875, 1.0)\n",
      "PixelID: 3\n",
      "\n"
     ]
    }
   ],
   "source": [
    "fixed_image = sitk.ReadImage(\"fixedImage.mha\")\n",
    "moving_image = sitk.ReadImage(\"preAlignment.mha\")\n",
    "\n",
    "print_image_info(fixed_image)\n",
    "print_image_info(moving_image)"
   ]
  },
  {
   "cell_type": "markdown",
   "id": "3c5bd310",
   "metadata": {},
   "source": [
    "## Initial Alignment"
   ]
  },
  {
   "cell_type": "code",
   "execution_count": 6,
   "id": "6ecd77ae",
   "metadata": {},
   "outputs": [
    {
     "name": "stdout",
     "output_type": "stream",
     "text": [
      "<class 'SimpleITK.SimpleITK.Transform'>\n"
     ]
    }
   ],
   "source": [
    "initial_transform = sitk.CenteredTransformInitializer(\n",
    "    fixedImage = sitk.Cast(fixed_image, moving_image.GetPixelID()),\n",
    "    movingImage = moving_image, \n",
    "    transform = sitk.Euler3DTransform(),\n",
    "    operationMode = sitk.CenteredTransformInitializerFilter.GEOMETRY # MOMENTS\n",
    ")\n",
    "\n",
    "save_transform_and_image(initial_transform, fixed_image, moving_image, os.path.join(\"output\", \"initialAlignment\"),)\n",
    "\n",
    "print(type(initial_transform))"
   ]
  },
  {
   "cell_type": "markdown",
   "id": "1c94c2f4",
   "metadata": {},
   "source": [
    "## Final Registration"
   ]
  },
  {
   "cell_type": "markdown",
   "id": "87d9b9cd",
   "metadata": {},
   "source": [
    "### Version 1.1"
   ]
  },
  {
   "cell_type": "code",
   "execution_count": 9,
   "id": "d85b74b8",
   "metadata": {},
   "outputs": [],
   "source": [
    "registration_method = sitk.ImageRegistrationMethod()\n",
    "\n",
    "registration_method.SetMetricAsMattesMutualInformation(numberOfHistogramBins=50)\n",
    "registration_method.SetMetricSamplingStrategy(registration_method.RANDOM)\n",
    "registration_method.SetMetricSamplingPercentage(0.01)\n",
    "\n",
    "registration_method.SetInterpolator(sitk.sitkLinear)\n",
    "\n",
    "registration_method.SetOptimizerAsGradientDescent(learningRate=1, numberOfIterations=100)\n",
    "# Scale the step size differently for each parameter, this is critical!!!\n",
    "registration_method.SetOptimizerScalesFromPhysicalShift()\n",
    "\n",
    "registration_method.SetInitialTransform(initial_transform, inPlace=False)"
   ]
  },
  {
   "cell_type": "code",
   "execution_count": 10,
   "id": "10e79d16",
   "metadata": {},
   "outputs": [
    {
     "data": {
      "image/png": "[encoded data removed]",
      "text/plain": [
       "<Figure size 640x480 with 1 Axes>"
      ]
     },
     "metadata": {},
     "output_type": "display_data"
    }
   ],
   "source": [
    "# Optional Drawing\n",
    "import registration_callbacks\n",
    "registration_method.AddCommand(sitk.sitkStartEvent, registration_callbacks.metric_start_plot)\n",
    "registration_method.AddCommand(sitk.sitkEndEvent, registration_callbacks.metric_end_plot)\n",
    "registration_method.AddCommand(sitk.sitkIterationEvent, lambda: registration_callbacks.metric_plot_values(registration_method),)\n",
    "\n",
    "final_transform_v11 = registration_method.Execute(\n",
    "    fixed=sitk.Cast(fixed_image, sitk.sitkFloat32), \n",
    "    moving=sitk.Cast(moving_image, sitk.sitkFloat32)\n",
    ")"
   ]
  },
  {
   "cell_type": "code",
   "execution_count": 11,
   "id": "c195ff0d",
   "metadata": {},
   "outputs": [
    {
     "name": "stdout",
     "output_type": "stream",
     "text": [
      "Optimizer's stopping condition, GradientDescentOptimizerv4Template: Maximum number of iterations (100) exceeded.\n",
      "Final metric value: -0.3454661929755809\n"
     ]
    }
   ],
   "source": [
    "print(f\"Optimizer's stopping condition, {registration_method.GetOptimizerStopConditionDescription()}\")\n",
    "print(f\"Final metric value: {registration_method.GetMetricValue()}\")\n",
    "\n",
    "save_transform_and_image(final_transform_v11, fixed_image, moving_image, os.path.join(\"Output\", \"finalAlignment-v11\"),)"
   ]
  },
  {
   "cell_type": "code",
   "execution_count": 13,
   "id": "d8200ab7",
   "metadata": {},
   "outputs": [
    {
     "name": "stdout",
     "output_type": "stream",
     "text": [
      "itk::simple::CompositeTransform\n",
      " CompositeTransform (000002064F7A8A40)\n",
      "   RTTI typeinfo:   class itk::CompositeTransform<double,3>\n",
      "   Reference Count: 1\n",
      "   Modified Time: 1500544\n",
      "   Debug: Off\n",
      "   Object Name: \n",
      "   Observers: \n",
      "     none\n",
      "   Transforms in queue, from begin to end:\n",
      "   >>>>>>>>>\n",
      "   Euler3DTransform (000002064F168B30)\n",
      "     RTTI typeinfo:   class itk::Euler3DTransform<double>\n",
      "     Reference Count: 1\n",
      "     Modified Time: 1500534\n",
      "     Debug: Off\n",
      "     Object Name: \n",
      "     Observers: \n",
      "       none\n",
      "     Matrix: \n",
      "       0.998448 0.0312868 -0.0460802 \n",
      "       -0.0309908 0.999494 0.00712404 \n",
      "       0.0462798 -0.00568492 0.998912 \n",
      "     Offset: [11.0099, 40.7636, 79.2895]\n",
      "     Center: [-0.328125, -0.328125, -106.875]\n",
      "     Translation: [15.9249, 40.0125, 79.3925]\n",
      "     Inverse: \n",
      "       0.998448 -0.0309908 0.0462798 \n",
      "       0.0312868 0.999494 -0.00568492 \n",
      "       -0.0460802 0.00712404 0.998912 \n",
      "     Singular: 0\n",
      "     Euler's angles: AngleX=-0.00568495 AngleY=-0.0462971 AngleZ=-0.0312924\n",
      "     m_ComputeZYX = 0\n",
      "   End of MultiTransform.\n",
      "<<<<<<<<<<\n",
      "   TransformsToOptimizeFlags, begin() to end(): \n",
      "      1 \n",
      "   TransformsToOptimize in queue, from begin to end:\n",
      "   End of TransformsToOptimizeQueue.\n",
      "<<<<<<<<<<\n",
      "   End of CompositeTransform.\n",
      "<<<<<<<<<<\n",
      "\n"
     ]
    }
   ],
   "source": [
    "print(final_transform_v11)"
   ]
  },
  {
   "cell_type": "markdown",
   "id": "cfb6056d",
   "metadata": {},
   "source": [
    "### Version 1.2"
   ]
  },
  {
   "cell_type": "code",
   "execution_count": 14,
   "id": "62c7f685",
   "metadata": {},
   "outputs": [
    {
     "data": {
      "image/png": "[encoded data removed]",
      "text/plain": [
       "<Figure size 640x480 with 1 Axes>"
      ]
     },
     "metadata": {},
     "output_type": "display_data"
    }
   ],
   "source": [
    "registration_method = sitk.ImageRegistrationMethod()\n",
    "\n",
    "registration_method.SetMetricAsMattesMutualInformation(numberOfHistogramBins=50)\n",
    "registration_method.SetMetricSamplingStrategy(registration_method.RANDOM)\n",
    "registration_method.SetMetricSamplingPercentage(0.01)\n",
    "\n",
    "registration_method.SetInterpolator(sitk.sitkLinear)\n",
    "\n",
    "registration_method.SetOptimizerAsGradientDescent(learningRate=1.0, numberOfIterations=100)\n",
    "registration_method.SetOptimizerScalesFromPhysicalShift()\n",
    "\n",
    "# Set the initial moving and optimized transforms.\n",
    "optimized_transform = sitk.Euler3DTransform()\n",
    "registration_method.SetMovingInitialTransform(initial_transform)\n",
    "registration_method.SetInitialTransform(optimized_transform)\n",
    "\n",
    "registration_method.AddCommand(sitk.sitkStartEvent, registration_callbacks.metric_start_plot)\n",
    "registration_method.AddCommand(sitk.sitkEndEvent, registration_callbacks.metric_end_plot)\n",
    "registration_method.AddCommand(sitk.sitkIterationEvent, lambda: registration_callbacks.metric_plot_values(registration_method))\n",
    "\n",
    "registration_method.Execute(sitk.Cast(fixed_image, sitk.sitkFloat32), sitk.Cast(moving_image, sitk.sitkFloat32))\n",
    "\n",
    "# Need to compose the transformations after registration.\n",
    "final_transform_v12 = sitk.CompositeTransform(optimized_transform)\n",
    "final_transform_v12.AddTransform(initial_transform)"
   ]
  },
  {
   "cell_type": "code",
   "execution_count": 17,
   "id": "e34dae87",
   "metadata": {},
   "outputs": [
    {
     "name": "stdout",
     "output_type": "stream",
     "text": [
      "Optimizer's stopping condition, GradientDescentOptimizerv4Template: Maximum number of iterations (100) exceeded.\n",
      "Final metric value: -0.3458930965077362\n"
     ]
    }
   ],
   "source": [
    "print(f\"Optimizer's stopping condition, {registration_method.GetOptimizerStopConditionDescription()}\")\n",
    "print(f\"Final metric value: {registration_method.GetMetricValue()}\")\n",
    "\n",
    "# Save moving image after registration and view overlap using external viewer.\n",
    "save_transform_and_image(final_transform_v11, fixed_image, moving_image, os.path.join(\"output\", \"finalAlignment-v1.1\"),)"
   ]
  },
  {
   "cell_type": "code",
   "execution_count": 18,
   "id": "76c8a034",
   "metadata": {},
   "outputs": [
    {
     "name": "stdout",
     "output_type": "stream",
     "text": [
      "itk::simple::CompositeTransform\n",
      " CompositeTransform (000002064F7A8BD0)\n",
      "   RTTI typeinfo:   class itk::CompositeTransform<double,3>\n",
      "   Reference Count: 1\n",
      "   Modified Time: 2998966\n",
      "   Debug: Off\n",
      "   Object Name: \n",
      "   Observers: \n",
      "     none\n",
      "   Transforms in queue, from begin to end:\n",
      "   >>>>>>>>>\n",
      "   Euler3DTransform (0000020638BC0480)\n",
      "     RTTI typeinfo:   class itk::Euler3DTransform<double>\n",
      "     Reference Count: 3\n",
      "     Modified Time: 2998942\n",
      "     Debug: Off\n",
      "     Object Name: \n",
      "     Observers: \n",
      "       none\n",
      "     Matrix: \n",
      "       0.998478 0.0301381 -0.0461825 \n",
      "       -0.0299219 0.999538 0.00536592 \n",
      "       0.0463229 -0.00397589 0.998919 \n",
      "     Offset: [-8.97013, 11.551, -4.57627]\n",
      "     Center: [-0.328125, -0.328125, -106.875]\n",
      "     Translation: [-4.04377, 10.9875, -4.47459]\n",
      "     Inverse: \n",
      "       0.998478 -0.0299219 0.0463229 \n",
      "       0.0301381 0.999538 -0.00397589 \n",
      "       -0.0461825 0.00536592 0.998919 \n",
      "     Singular: 0\n",
      "     Euler's angles: AngleX=-0.0039759 AngleY=-0.0463398 AngleZ=-0.0301429\n",
      "     m_ComputeZYX = 0\n",
      "   >>>>>>>>>\n",
      "   Euler3DTransform (0000020638BC5F40)\n",
      "     RTTI typeinfo:   class itk::Euler3DTransform<double>\n",
      "     Reference Count: 1\n",
      "     Modified Time: 2998962\n",
      "     Debug: Off\n",
      "     Object Name: \n",
      "     Observers: \n",
      "       none\n",
      "     Matrix: \n",
      "       1 0 0 \n",
      "       0 1 0 \n",
      "       0 0 1 \n",
      "     Offset: [20.0012, 29.0821, 83.8438]\n",
      "     Center: [-0.328125, -0.328125, -106.875]\n",
      "     Translation: [20.0012, 29.0821, 83.8438]\n",
      "     Inverse: \n",
      "       1 0 0 \n",
      "       0 1 0 \n",
      "       0 0 1 \n",
      "     Singular: 0\n",
      "     Euler's angles: AngleX=0 AngleY=0 AngleZ=0\n",
      "     m_ComputeZYX = 0\n",
      "   End of MultiTransform.\n",
      "<<<<<<<<<<\n",
      "   TransformsToOptimizeFlags, begin() to end(): \n",
      "      0 1 \n",
      "   TransformsToOptimize in queue, from begin to end:\n",
      "   End of TransformsToOptimizeQueue.\n",
      "<<<<<<<<<<\n",
      "   End of CompositeTransform.\n",
      "<<<<<<<<<<\n",
      "\n"
     ]
    }
   ],
   "source": [
    "print(final_transform_v12)"
   ]
  },
  {
   "cell_type": "markdown",
   "id": "0b6dc49b",
   "metadata": {},
   "source": [
    "### version 2"
   ]
  },
  {
   "cell_type": "code",
   "execution_count": 19,
   "id": "77034a49",
   "metadata": {},
   "outputs": [
    {
     "data": {
      "image/png": "[encoded data removed]",
      "text/plain": [
       "<Figure size 640x480 with 1 Axes>"
      ]
     },
     "metadata": {},
     "output_type": "display_data"
    },
    {
     "data": {
      "text/plain": [
       "<SimpleITK.SimpleITK.Euler3DTransform; proxy of <Swig Object of type 'itk::simple::Euler3DTransform *' at 0x000002067A8074B0> >"
      ]
     },
     "execution_count": 19,
     "metadata": {},
     "output_type": "execute_result"
    }
   ],
   "source": [
    "registration_method = sitk.ImageRegistrationMethod()\n",
    "\n",
    "registration_method.SetMetricAsMattesMutualInformation(numberOfHistogramBins=50)\n",
    "registration_method.SetMetricSamplingStrategy(registration_method.RANDOM)\n",
    "registration_method.SetMetricSamplingPercentage(0.01)\n",
    "\n",
    "registration_method.SetInterpolator(sitk.sitkLinear)\n",
    "\n",
    "registration_method.SetOptimizerAsGradientDescent(learningRate=1.0, numberOfIterations=100)\n",
    "registration_method.SetOptimizerScalesFromPhysicalShift()\n",
    "\n",
    "final_transform = sitk.Euler3DTransform(initial_transform)\n",
    "registration_method.SetInitialTransform(final_transform)\n",
    "\n",
    "registration_method.SetShrinkFactorsPerLevel(shrinkFactors=[4, 2, 1])\n",
    "registration_method.SetSmoothingSigmasPerLevel(smoothingSigmas=[2, 1, 0])\n",
    "registration_method.SmoothingSigmasAreSpecifiedInPhysicalUnitsOn()\n",
    "\n",
    "registration_method.AddCommand(sitk.sitkStartEvent, registration_callbacks.metric_start_plot)\n",
    "registration_method.AddCommand(sitk.sitkEndEvent, registration_callbacks.metric_end_plot)\n",
    "registration_method.AddCommand(sitk.sitkMultiResolutionIterationEvent, registration_callbacks.metric_update_multires_iterations,)\n",
    "registration_method.AddCommand(sitk.sitkIterationEvent, lambda: registration_callbacks.metric_plot_values(registration_method),)\n",
    "\n",
    "registration_method.Execute(sitk.Cast(fixed_image, sitk.sitkFloat32), sitk.Cast(moving_image, sitk.sitkFloat32))"
   ]
  },
  {
   "cell_type": "code",
   "execution_count": 20,
   "id": "0f12e48c",
   "metadata": {},
   "outputs": [
    {
     "name": "stdout",
     "output_type": "stream",
     "text": [
      "Optimizer's stopping condition, GradientDescentOptimizerv4Template: Convergence checker passed at iteration 11.\n",
      "Final metric value: -0.3416316934356154\n"
     ]
    }
   ],
   "source": [
    "print(f\"Optimizer's stopping condition, {registration_method.GetOptimizerStopConditionDescription()}\")\n",
    "print(f\"Final metric value: {registration_method.GetMetricValue()}\")\n",
    "\n",
    "# Save moving image after registration and view overlap using external viewer.\n",
    "save_transform_and_image(final_transform, fixed_image, moving_image, os.path.join(\"Output\", \"finalAlignment-v2\"),)"
   ]
  },
  {
   "cell_type": "code",
   "execution_count": 21,
   "id": "3377b820",
   "metadata": {},
   "outputs": [
    {
     "name": "stdout",
     "output_type": "stream",
     "text": [
      "itk::simple::Euler3DTransform\n",
      " Euler3DTransform (0000020638BC29A0)\n",
      "   RTTI typeinfo:   class itk::Euler3DTransform<double>\n",
      "   Reference Count: 3\n",
      "   Modified Time: 4697437\n",
      "   Debug: Off\n",
      "   Object Name: \n",
      "   Observers: \n",
      "     none\n",
      "   Matrix: \n",
      "     0.998279 0.0372239 -0.045319 \n",
      "     -0.0369718 0.999296 0.00638742 \n",
      "     0.0455249 -0.00470089 0.998952 \n",
      "   Offset: [10.6713, 39.7285, 79.279]\n",
      "   Center: [-0.328125, -0.328125, -106.875]\n",
      "   Translation: [15.5031, 39.0582, 79.3776]\n",
      "   Inverse: \n",
      "     0.998279 -0.0369718 0.0455249 \n",
      "     0.0372239 0.999296 -0.00470089 \n",
      "     -0.045319 0.00638742 0.998952 \n",
      "   Singular: 0\n",
      "   Euler's angles: AngleX=-0.00470091 AngleY=-0.0455411 AngleZ=-0.0372329\n",
      "   m_ComputeZYX = 0\n",
      "\n"
     ]
    }
   ],
   "source": [
    "print(final_transform)"
   ]
  },
  {
   "cell_type": "code",
   "execution_count": null,
   "id": "e80ebfa7",
   "metadata": {},
   "outputs": [],
   "source": []
  }
 ],
 "metadata": {
  "kernelspec": {
   "display_name": "sitk",
   "language": "python",
   "name": "python3"
  },
  "language_info": {
   "codemirror_mode": {
    "name": "ipython",
    "version": 3
   },
   "file_extension": ".py",
   "mimetype": "text/x-python",
   "name": "python",
   "nbconvert_exporter": "python",
   "pygments_lexer": "ipython3",
   "version": "3.9.18"
  },
  "toc": {
   "base_numbering": 1,
   "nav_menu": {},
   "number_sections": true,
   "sideBar": true,
   "skip_h1_title": false,
   "title_cell": "Table of Contents",
   "title_sidebar": "Contents",
   "toc_cell": false,
   "toc_position": {},
   "toc_section_display": true,
   "toc_window_display": true
  },
  "varInspector": {
   "cols": {
    "lenName": 16,
    "lenType": 16,
    "lenVar": 40
   },
   "kernels_config": {
    "python": {
     "delete_cmd_postfix": "",
     "delete_cmd_prefix": "del ",
     "library": "var_list.py",
     "varRefreshCmd": "print(var_dic_list())"
    },
    "r": {
     "delete_cmd_postfix": ") ",
     "delete_cmd_prefix": "rm(",
     "library": "var_list.r",
     "varRefreshCmd": "cat(var_dic_list()) "
    }
   },
   "types_to_exclude": [
    "module",
    "function",
    "builtin_function_or_method",
    "instance",
    "_Feature"
   ],
   "window_display": false
  }
 },
 "nbformat": 4,
 "nbformat_minor": 5
}
