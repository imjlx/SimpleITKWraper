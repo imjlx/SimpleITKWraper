{
 "cells": [
  {
   "cell_type": "markdown",
   "id": "61ed3e86",
   "metadata": {},
   "source": [
    "# Basic Example"
   ]
  },
  {
   "cell_type": "markdown",
   "id": "99ef4279",
   "metadata": {},
   "source": [
    "##  Read Image"
   ]
  },
  {
   "cell_type": "code",
   "execution_count": 1,
   "id": "8937a25a",
   "metadata": {},
   "outputs": [],
   "source": [
    "import SimpleITK as sitk\n",
    "import os\n",
    "\n",
    "OUTPUT_DIR = \"Output\""
   ]
  },
  {
   "cell_type": "code",
   "execution_count": 2,
   "id": "7ead8e6c",
   "metadata": {
    "scrolled": false
   },
   "outputs": [],
   "source": [
    "fixed_image = sitk.ReadImage(\"training_001_ct.mha\", sitk.sitkFloat32)\n",
    "moving_image = sitk.ReadImage(\"training_001_mr_T1.mha\", sitk.sitkFloat32)"
   ]
  },
  {
   "cell_type": "code",
   "execution_count": 3,
   "id": "f6d06d06",
   "metadata": {},
   "outputs": [
    {
     "name": "stdout",
     "output_type": "stream",
     "text": [
      "(512, 512, 29)\n",
      "(0.653595, 0.653595, 4.0)\n",
      "\n",
      "(256, 256, 26)\n",
      "(1.25, 1.25, 4.0)\n",
      "\n"
     ]
    }
   ],
   "source": [
    "def image_info(img):\n",
    "    print(img.GetSize())\n",
    "    print(img.GetSpacing())\n",
    "    print()\n",
    "    \n",
    "image_info(fixed_image)\n",
    "image_info(moving_image)"
   ]
  },
  {
   "cell_type": "markdown",
   "id": "f1330067",
   "metadata": {},
   "source": [
    "## Initial Alignment"
   ]
  },
  {
   "cell_type": "code",
   "execution_count": 5,
   "id": "cdb62803",
   "metadata": {},
   "outputs": [
    {
     "name": "stdout",
     "output_type": "stream",
     "text": [
      "<class 'SimpleITK.SimpleITK.Transform'>\n"
     ]
    }
   ],
   "source": [
    "# 根据两个图像计算初始化Trans\n",
    "initial_transform = sitk.CenteredTransformInitializer(\n",
    "    fixedImage = fixed_image, \n",
    "    movingImage = moving_image, \n",
    "    transform = sitk.Euler3DTransform(),\n",
    "    operationMode = sitk.CenteredTransformInitializerFilter.GEOMETRY\n",
    ")\n",
    "print(type(initial_transform))"
   ]
  },
  {
   "cell_type": "code",
   "execution_count": 7,
   "id": "b5a8976b",
   "metadata": {},
   "outputs": [
    {
     "name": "stdout",
     "output_type": "stream",
     "text": [
      "(256, 256, 26)\n",
      "(1.25, 1.25, 4.0)\n",
      "\n",
      "(512, 512, 29)\n",
      "(0.653595, 0.653595, 4.0)\n",
      "\n"
     ]
    }
   ],
   "source": [
    "# 对 moving image 进行转换和重采样\n",
    "moving_resampled = sitk.Resample(\n",
    "    image1 = moving_image,\n",
    "    referenceImage = fixed_image,\n",
    "    transform = initial_transform,\n",
    "    interpolator = sitk.sitkLinear,\n",
    "    defaultPixelValue = 0.0,\n",
    "    outputPixelType = moving_image.GetPixelID(),\n",
    ")\n",
    "image_info(moving_image)\n",
    "image_info(moving_resampled)"
   ]
  },
  {
   "cell_type": "markdown",
   "id": "3d380f23",
   "metadata": {},
   "source": [
    "## Registration"
   ]
  },
  {
   "cell_type": "markdown",
   "id": "4aa43df6",
   "metadata": {},
   "source": [
    "[`sitk.ImageRegistrationMethod()`](https://simpleitk.org/doxygen/v2_1/html/classitk_1_1simple_1_1ImageRegistrationMethod.html)"
   ]
  },
  {
   "cell_type": "code",
   "execution_count": 9,
   "id": "fbc21d4e",
   "metadata": {},
   "outputs": [],
   "source": [
    "# 声明一个helper class\n",
    "registration_method = sitk.ImageRegistrationMethod()\n",
    "\n",
    "\n",
    "# Similarity metric settings.\n",
    "registration_method.SetMetricAsMattesMutualInformation(numberOfHistogramBins=50)\n",
    "\n",
    "registration_method.SetMetricSamplingStrategy(registration_method.RANDOM)\n",
    "registration_method.SetMetricSamplingPercentage(0.01)\n",
    "\n",
    "\n",
    "# Interpolator settings\n",
    "registration_method.SetInterpolator(sitk.sitkLinear)\n",
    "\n",
    "\n",
    "# Oprimizer settings\n",
    "registration_method.SetOptimizerAsGradientDescent(\n",
    "    learningRate=1.0, \n",
    "    numberOfIterations=100, \n",
    "    convergenceMinimumValue=1e-6, \n",
    "    convergenceWindowSize=10,\n",
    ")\n",
    "# Estimating scales of transform parameters a step sizes, \n",
    "# from the maximum voxel shift in physical space caused by a parameter change. \n",
    "registration_method.SetOptimizerScalesFromPhysicalShift()\n",
    "\n",
    "\n",
    "# Setup for the multi-resolution framwork\n",
    "registration_method.SetShrinkFactorsPerLevel(shrinkFactors=[4, 2, 1])\n",
    "registration_method.SetSmoothingSigmasPerLevel(smoothingSigmas=[2, 1, 0])\n",
    "registration_method.SmoothingSigmasAreSpecifiedInPhysicalUnitsOn()\n",
    "\n",
    "\n",
    "# Set initial transform\n",
    "registration_method.SetInitialTransform(initial_transform, inPlace=False)"
   ]
  },
  {
   "cell_type": "code",
   "execution_count": 10,
   "id": "12e1a075",
   "metadata": {},
   "outputs": [],
   "source": [
    "# Callback invoked when the StartEvent happens, sets up our new data.\n",
    "def start_plot():\n",
    "    global metric_values, multires_iterations\n",
    "\n",
    "    metric_values = []\n",
    "    multires_iterations = []\n",
    "\n",
    "\n",
    "# Callback invoked when the EndEvent happens, do cleanup of data and figure.\n",
    "def end_plot():\n",
    "    global metric_values, multires_iterations\n",
    "\n",
    "    del metric_values\n",
    "    del multires_iterations\n",
    "    # Close figure, we don't want to get a duplicate of the plot latter on.\n",
    "    plt.close()\n",
    "\n",
    "\n",
    "# Callback invoked when the IterationEvent happens, update our data and display new figure.\n",
    "def plot_values(registration_method):\n",
    "    global metric_values, multires_iterations\n",
    "\n",
    "    metric_values.append(registration_method.GetMetricValue())\n",
    "    # Clear the output area (wait=True, to reduce flickering), and plot current data\n",
    "    clear_output(wait=True)\n",
    "    # Plot the similarity metric values\n",
    "    plt.plot(metric_values, \"r\")\n",
    "    plt.plot(\n",
    "        multires_iterations,\n",
    "        [metric_values[index] for index in multires_iterations],\n",
    "        \"b*\",\n",
    "    )\n",
    "    plt.xlabel(\"Iteration Number\", fontsize=12)\n",
    "    plt.ylabel(\"Metric Value\", fontsize=12)\n",
    "    plt.show()\n",
    "\n",
    "\n",
    "# Callback invoked when the sitkMultiResolutionIterationEvent happens, update the index into the\n",
    "# metric_values list.\n",
    "def update_multires_iterations():\n",
    "    global metric_values, multires_iterations\n",
    "    multires_iterations.append(len(metric_values))\n",
    "    \n",
    "\n",
    "# Connect all of the observers so that we can perform plotting during registration.\n",
    "registration_method.AddCommand(sitk.sitkStartEvent, start_plot)\n",
    "registration_method.AddCommand(sitk.sitkEndEvent, end_plot)\n",
    "registration_method.AddCommand(\n",
    "    sitk.sitkMultiResolutionIterationEvent, update_multires_iterations\n",
    ")\n",
    "registration_method.AddCommand(\n",
    "    sitk.sitkIterationEvent, lambda: plot_values(registration_method)\n",
    ")"
   ]
  },
  {
   "cell_type": "code",
   "execution_count": 11,
   "id": "0d90495b",
   "metadata": {},
   "outputs": [
    {
     "data": {
      "image/png": "[encoded data removed]",
      "text/plain": [
       "<Figure size 640x480 with 1 Axes>"
      ]
     },
     "metadata": {},
     "output_type": "display_data"
    }
   ],
   "source": [
    "import matplotlib.pyplot as plt\n",
    "from IPython.display import clear_output\n",
    "final_transform = registration_method.Execute(\n",
    "    sitk.Cast(fixed_image, sitk.sitkFloat32), sitk.Cast(moving_image, sitk.sitkFloat32)\n",
    ")"
   ]
  },
  {
   "cell_type": "code",
   "execution_count": 12,
   "id": "69417266",
   "metadata": {},
   "outputs": [
    {
     "name": "stdout",
     "output_type": "stream",
     "text": [
      "Final metric value: -0.5542026438971804\n",
      "Optimizer's stopping condition, GradientDescentOptimizerv4Template: Convergence checker passed at iteration 9.\n"
     ]
    }
   ],
   "source": [
    "print(f\"Final metric value: {registration_method.GetMetricValue()}\")\n",
    "print(\n",
    "    f\"Optimizer's stopping condition, {registration_method.GetOptimizerStopConditionDescription()}\"\n",
    ")"
   ]
  },
  {
   "cell_type": "code",
   "execution_count": 13,
   "id": "ab43e1ab",
   "metadata": {},
   "outputs": [],
   "source": [
    "moving_resampled = sitk.Resample(\n",
    "    moving_image,\n",
    "    fixed_image,\n",
    "    final_transform,\n",
    "    sitk.sitkLinear,\n",
    "    0.0,\n",
    "    moving_image.GetPixelID(),\n",
    ")"
   ]
  },
  {
   "cell_type": "code",
   "execution_count": null,
   "id": "8206ad75",
   "metadata": {},
   "outputs": [],
   "source": []
  }
 ],
 "metadata": {
  "kernelspec": {
   "display_name": "base",
   "language": "python",
   "name": "python3"
  },
  "language_info": {
   "codemirror_mode": {
    "name": "ipython",
    "version": 3
   },
   "file_extension": ".py",
   "mimetype": "text/x-python",
   "name": "python",
   "nbconvert_exporter": "python",
   "pygments_lexer": "ipython3",
   "version": "3.9.18"
  },
  "toc": {
   "base_numbering": 1,
   "nav_menu": {},
   "number_sections": true,
   "sideBar": true,
   "skip_h1_title": false,
   "title_cell": "Table of Contents",
   "title_sidebar": "Contents",
   "toc_cell": false,
   "toc_position": {
    "height": "calc(100% - 180px)",
    "left": "10px",
    "top": "150px",
    "width": "183.4px"
   },
   "toc_section_display": true,
   "toc_window_display": true
  },
  "varInspector": {
   "cols": {
    "lenName": 16,
    "lenType": 16,
    "lenVar": 40
   },
   "kernels_config": {
    "python": {
     "delete_cmd_postfix": "",
     "delete_cmd_prefix": "del ",
     "library": "var_list.py",
     "varRefreshCmd": "print(var_dic_list())"
    },
    "r": {
     "delete_cmd_postfix": ") ",
     "delete_cmd_prefix": "rm(",
     "library": "var_list.r",
     "varRefreshCmd": "cat(var_dic_list()) "
    }
   },
   "types_to_exclude": [
    "module",
    "function",
    "builtin_function_or_method",
    "instance",
    "_Feature"
   ],
   "window_display": false
  }
 },
 "nbformat": 4,
 "nbformat_minor": 5
}
